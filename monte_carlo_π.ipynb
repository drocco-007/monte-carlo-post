{
 "metadata": {
  "name": "",
  "signature": "sha256:ae970f2bc4320c9ccce4386299d0a803402417ed7a7832a951c8de6a07af39ed"
 },
 "nbformat": 3,
 "nbformat_minor": 0,
 "worksheets": [
  {
   "cells": [
    {
     "cell_type": "heading",
     "level": 1,
     "metadata": {},
     "source": [
      "A Monte Carlo Example in Python"
     ]
    },
    {
     "cell_type": "markdown",
     "metadata": {},
     "source": [
      "While reading about Monte Carlo methods, I came across this fascinating image created by [Caitlin Jo Ramsey](https://www.google.com/+CaitlinJoRamsey):\n",
      "\n",
      "<img src=\"http://upload.wikimedia.org/wikipedia/commons/8/84/Pi_30K.gif\"/>\n",
      "\n",
      "This plot illustrates a Monte Carlo method for determining \u03c0, which I immediately determined to try to reproduce in Python. [This post is an IPython Notebook](https://github.com/drocco-007/monte-carlo-post) demonstrating how to perform this method using modern Python tools and techniques. \n",
      "\n",
      "Caveat emptor: Monte Carlo methods are *not* the best technique for generating approximations of \u03c0, so if that's what you are interested in, check out [Wikipedia's \u03c0 page](http://en.wikipedia.org/wiki/Pi) or search around for implementations in your favorite language. On the other hand, the algorithm *does* offer a nice introduction to Monte Carlo methods as it is\n",
      "\n",
      "* simple\n",
      "* reasonably intuitive\n",
      "* easily verifiable\n",
      "* fast enough\n",
      "\n",
      "Let's get started!"
     ]
    },
    {
     "cell_type": "heading",
     "level": 2,
     "metadata": {},
     "source": [
      "Monte Carlo?"
     ]
    },
    {
     "cell_type": "markdown",
     "metadata": {},
     "source": [
      "What are Monte Carlo methods? A Monte Carlo method is a probabilistic algorithm that relies on random sampling rather than strict determinism to obtain its result. Monte Carlo methods are useful in many fields, particularly when the complexity of the problem in question renders deterministic solutions infeasible.\n",
      "\n",
      "The example above uses a Monte Carlo method for approximating \u03c0. Here's how it works: picture the unit square and the unit circle, with the center of the circle at the origin. Let $r = 1.0$ be both the radius of the circle and the length of one side of the square, then the area of the quarter-circle inside the square is ${1 \\over 4}\u03c0r^2$ and the area of the square is $r^2$, making the ratio of these two areas\n",
      "\n",
      "$${{1 \\over 4}\u03c0r^2 \\over r^2} = {\u03c0 \\over 4}$$\n",
      "\n",
      "A Monte Carlo method for determining \u03c0 using this knowledge works by\n",
      "\n",
      "1. Drawing a set of random points from inside the unit square\n",
      "\n",
      "2. Counting the number of points that fall inside the quarter of the unit circle\n",
      "\n",
      "3. Calculating the ratio of the number of points inside the quarter of the unit circle to the total number of points, which approaches $\u03c0 \\over 4$ as the number of random points increases.\n",
      "\n",
      "This algorithm illustrates the main features of a Monte Carlo method: random (uniformly-distributed) simulation of trials applied over a system that converges as the number of trials increases. "
     ]
    },
    {
     "cell_type": "heading",
     "level": 2,
     "metadata": {},
     "source": [
      "\u03c0-ed Python"
     ]
    },
    {
     "cell_type": "markdown",
     "metadata": {},
     "source": [
      "Implementing this technique in Python is pretty easy, and is greatly aided by the wonderful mathematical and data processing tools available to us in modern Python. As usual, we begin with some imports"
     ]
    },
    {
     "cell_type": "code",
     "collapsed": false,
     "input": [
      "from __future__ import division\n",
      "\n",
      "import math\n",
      "\n",
      "from matplotlib import pyplot as plt\n",
      "import numpy as np\n",
      "import pandas as pd"
     ],
     "language": "python",
     "metadata": {},
     "outputs": [],
     "prompt_number": 1
    },
    {
     "cell_type": "markdown",
     "metadata": {},
     "source": [
      "In order to run the simulation, we need to determine the number of samples we want to use. As you might expect, there is no magical, universally applicable number we can use here: this number represents a trade-off between time and accuracy. How many samples is enough varies widely from problem to problem, but in this case, as I'm more concerned with human understanding than computational accuracy, I've chosen a number that runs fairly quickly on my hardware. After you've read through the post, try changing this number and rerunning the stimulation to see how it affects the results."
     ]
    },
    {
     "cell_type": "code",
     "collapsed": false,
     "input": [
      "n_points = 30000"
     ],
     "language": "python",
     "metadata": {},
     "outputs": [],
     "prompt_number": 2
    },
    {
     "cell_type": "markdown",
     "metadata": {},
     "source": [
      "The first step of the simulation is to scatter random points within the square. `numpy` makes this step very easy: we simply ask for an $n \\times 2$ array of random numbers, which we then load into a `DataFrame`. Here are the first 10 points: "
     ]
    },
    {
     "cell_type": "code",
     "collapsed": false,
     "input": [
      "df = pd.DataFrame(np.random.rand(n_points, 2), columns=['x', 'y'])\n",
      "print df[:10]"
     ],
     "language": "python",
     "metadata": {},
     "outputs": [
      {
       "output_type": "stream",
       "stream": "stdout",
       "text": [
        "          x         y\n",
        "0  0.253932  0.001481\n",
        "1  0.132140  0.794024\n",
        "2  0.922971  0.336528\n",
        "3  0.007916  0.394233\n",
        "4  0.685862  0.809240\n",
        "5  0.542421  0.684382\n",
        "6  0.210611  0.755605\n",
        "7  0.622909  0.749113\n",
        "8  0.626764  0.400379\n",
        "9  0.098181  0.561932\n",
        "\n",
        "[10 rows x 2 columns]\n"
       ]
      }
     ],
     "prompt_number": 3
    },
    {
     "cell_type": "heading",
     "level": 2,
     "metadata": {},
     "source": [
      "In or Out"
     ]
    },
    {
     "cell_type": "markdown",
     "metadata": {},
     "source": [
      "Next we need to determine which points fall within the wedge of the unit circle within the square. How, you ask? Let's ask Pythagoras!"
     ]
    },
    {
     "cell_type": "code",
     "collapsed": false,
     "input": [
      "def within_unit_circle(row):\n",
      "    x, y = row['x'], row['y']\n",
      "    return math.sqrt(x**2.0 + y**2.0) <= 1.0"
     ],
     "language": "python",
     "metadata": {},
     "outputs": [],
     "prompt_number": 4
    },
    {
     "cell_type": "markdown",
     "metadata": {},
     "source": [
      "That is: given a point inside our square, we know that the point's distance from the origin is given by $d = \\sqrt{x^2 + y^2}$; if $ d \u2264 r$, then the point lies within the circle. Neat!\n",
      "\n",
      "To run this calculation for each of our random points, we can use the `DataFrame`'s `apply()` method, attaching the result as a new column: "
     ]
    },
    {
     "cell_type": "code",
     "collapsed": false,
     "input": [
      "df['within_unit_circle'] = df.apply(within_unit_circle, axis=1)\n",
      "print df[:10]"
     ],
     "language": "python",
     "metadata": {},
     "outputs": [
      {
       "output_type": "stream",
       "stream": "stdout",
       "text": [
        "          x         y within_unit_circle\n",
        "0  0.253932  0.001481               True\n",
        "1  0.132140  0.794024               True\n",
        "2  0.922971  0.336528               True\n",
        "3  0.007916  0.394233               True\n",
        "4  0.685862  0.809240              False\n",
        "5  0.542421  0.684382               True\n",
        "6  0.210611  0.755605               True\n",
        "7  0.622909  0.749113               True\n",
        "8  0.626764  0.400379               True\n",
        "9  0.098181  0.561932               True\n",
        "\n",
        "[10 rows x 3 columns]\n"
       ]
      }
     ],
     "prompt_number": 5
    },
    {
     "cell_type": "markdown",
     "metadata": {},
     "source": [
      "The `axis=1` argument lets `apply()` know that we want to apply the function over the *rows* of the `DataFrame`, rather than its columns."
     ]
    },
    {
     "cell_type": "heading",
     "level": 2,
     "metadata": {},
     "source": [
      "Tabulating Truth"
     ]
    },
    {
     "cell_type": "markdown",
     "metadata": {},
     "source": [
      "Next up: counting. A `pandas` `DataFrame` has a `sum()` method that can be used on its columns. One handy feature of this method is that, when applied to a column of Boolean values, it has the effect of counting the `True`s:"
     ]
    },
    {
     "cell_type": "code",
     "collapsed": false,
     "input": [
      "boolean_frame = pd.DataFrame({\n",
      "    'true_blue': [True, True, True],\n",
      "    'falsehood': [False, False, False],\n",
      "    'unseemly_fraternization': [True, False, True],\n",
      "})\n",
      "\n",
      "print boolean_frame['true_blue'].sum()\n",
      "print boolean_frame['falsehood'].sum()\n",
      "print boolean_frame['unseemly_fraternization'].sum()"
     ],
     "language": "python",
     "metadata": {},
     "outputs": [
      {
       "output_type": "stream",
       "stream": "stdout",
       "text": [
        "3\n",
        "0\n",
        "2\n"
       ]
      }
     ],
     "prompt_number": 6
    },
    {
     "cell_type": "markdown",
     "metadata": {},
     "source": [
      "So, taking `sum()` for a spin:"
     ]
    },
    {
     "cell_type": "code",
     "collapsed": false,
     "input": [
      "df['within_unit_circle'].sum()"
     ],
     "language": "python",
     "metadata": {},
     "outputs": [
      {
       "metadata": {},
       "output_type": "pyout",
       "prompt_number": 7,
       "text": [
        "23570"
       ]
      }
     ],
     "prompt_number": 7
    },
    {
     "cell_type": "heading",
     "level": 2,
     "metadata": {},
     "source": [
      "Almost \u03c0"
     ]
    },
    {
     "cell_type": "markdown",
     "metadata": {},
     "source": [
      "And just like that, we can compute our approximation of \u03c0:"
     ]
    },
    {
     "cell_type": "code",
     "collapsed": false,
     "input": [
      "almost_pi = df['within_unit_circle'].sum() / len(df) * 4.0\n",
      "\n",
      "print almost_pi\n",
      "print math.pi\n",
      "print abs(almost_pi - math.pi)"
     ],
     "language": "python",
     "metadata": {},
     "outputs": [
      {
       "output_type": "stream",
       "stream": "stdout",
       "text": [
        "3.14266666667\n",
        "3.14159265359\n",
        "0.00107401307687\n"
       ]
      }
     ],
     "prompt_number": 8
    },
    {
     "cell_type": "markdown",
     "metadata": {},
     "source": [
      "Here is the plot of our data points, shaded like Caitlin Jo's version to distinguish the points inside and outside the wedge:"
     ]
    },
    {
     "cell_type": "code",
     "collapsed": false,
     "input": [
      "plt.scatter(df['x'], df['y'], c=[within and 'red' or 'blue' for within in df['within_unit_circle']], alpha=0.5)\n",
      "\n",
      "fig = plt.gcf()\n",
      "fig.set_figwidth(10)\n",
      "fig.set_figheight(10)\n",
      "\n",
      "ax = plt.gca()\n",
      "ax.axis([0.0, 1.0, 0.0, 1.0])\n",
      "\n",
      "plt.savefig('pi_30k.png')\n",
      "plt.close(fig)"
     ],
     "language": "python",
     "metadata": {},
     "outputs": [],
     "prompt_number": 13
    },
    {
     "cell_type": "heading",
     "level": 2,
     "metadata": {},
     "source": [
      "Keep Calm and \u03c0 On"
     ]
    },
    {
     "cell_type": "markdown",
     "metadata": {},
     "source": [
      "Well that was fun! To review, we've\n",
      "\n",
      "* discussed the basics of Monte Carlo methods\n",
      "* examined the details of a particular method to approximate \u03c0\n",
      "* used Python's wonderful data manipulation tools to implement the method\n",
      "\n",
      "Monte Carlo methods are widely used in many different fields, including physics, engineering, and business. To learn more, check out the [Wikipedia page on Monte Carlo methods](http://en.wikipedia.org/wiki/Monte_Carlo_method)."
     ]
    }
   ],
   "metadata": {}
  }
 ]
}